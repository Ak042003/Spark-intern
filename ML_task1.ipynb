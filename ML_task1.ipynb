{
 "cells": [
  {
   "cell_type": "code",
   "execution_count": null,
   "metadata": {},
   "outputs": [],
   "source": [
    "#Import required libraries\n",
    "import numpy as np  \n",
    "import pandas as pd\n",
    "import matplotlib.pyplot as plt  "
   ]
  },
  {
   "cell_type": "code",
   "execution_count": null,
   "metadata": {},
   "outputs": [],
   "source": [
    "#read and import data\n",
    "data=pd.read_csv(\"http://bit.ly/w-data\")\n",
    "\n",
    "#knowing about data\n",
    "data.head(10)"
   ]
  },
  {
   "cell_type": "code",
   "execution_count": null,
   "metadata": {},
   "outputs": [],
   "source": [
    "#visualizing the data\n",
    "data.plot(x=\"Hours\",y=\"Scores\",style=\"x\")\n",
    "plt.title(\"Scores v/s Hours distribution\")\n",
    "plt.xlabel(\"Hours\")\n",
    "plt.ylabel(\"Scores\")\n",
    "plt.show()"
   ]
  },
  {
   "cell_type": "code",
   "execution_count": null,
   "metadata": {},
   "outputs": [],
   "source": [
    "#Extracting input and output label from data\n",
    "x=data.iloc[:,0:1].values\n",
    "y=data.iloc[:,1].values\n"
   ]
  },
  {
   "cell_type": "code",
   "execution_count": null,
   "metadata": {},
   "outputs": [],
   "source": [
    "#Splitting data into training and test set \n",
    "from sklearn.model_selection import train_test_split\n",
    "x_train,x_test,y_train,y_test=train_test_split(x,y,train_size=0.8,random_state=0) #random state 0 for getting consistent reults across different model run\n",
    "print(x_train)"
   ]
  },
  {
   "cell_type": "code",
   "execution_count": null,
   "metadata": {},
   "outputs": [],
   "source": [
    "from sklearn.linear_model import LinearRegression\n",
    "reg=LinearRegression()\n",
    "reg.fit(x_train,y_train)\n",
    "\n",
    "#Visulaizing the regression line\n",
    "line=reg.coef_*x+reg.intercept_\n",
    "data.plot(\"Hours\",\"Scores\",style=\"x\")\n",
    "plt.plot(x,line)\n",
    "plt.show()"
   ]
  },
  {
   "cell_type": "code",
   "execution_count": null,
   "metadata": {},
   "outputs": [],
   "source": [
    "#predicting the values\n",
    "pred_y=reg.predict(x_test)\n",
    "pred_ytrain=reg.predict(x_train)\n"
   ]
  },
  {
   "cell_type": "code",
   "execution_count": null,
   "metadata": {},
   "outputs": [],
   "source": [
    "#Actual & Predicted comparison\n",
    "comparison=pd.DataFrame({'X_value':x_test.reshape(5,),'Actual':y_test,'Predicted':pred_y})\n"
   ]
  },
  {
   "cell_type": "code",
   "execution_count": null,
   "metadata": {},
   "outputs": [],
   "source": [
    "#predicted score if a student studies 9.25 hr/day\n",
    "hours=[[9.25]]\n",
    "##hours=hours.reshape(1,-1)\n",
    "pred_own=reg.predict(hours)\n",
    "print(\"Score if student studies\",hours[0][0],\"hr/day :\",pred_own[0])\n"
   ]
  },
  {
   "cell_type": "code",
   "execution_count": null,
   "metadata": {},
   "outputs": [],
   "source": [
    "#Error calculation\n",
    "from sklearn import metrics\n",
    "error_test=metrics.mean_squared_error(y_test,pred_y)\n",
    "print(error_test)\n",
    "error_train=metrics.mean_squared_error(y_train,pred_ytrain)\n",
    "print(error_train)"
   ]
  }
 ],
 "metadata": {
  "kernelspec": {
   "display_name": "base",
   "language": "python",
   "name": "python3"
  },
  "language_info": {
   "codemirror_mode": {
    "name": "ipython",
    "version": 3
   },
   "file_extension": ".py",
   "mimetype": "text/x-python",
   "name": "python",
   "nbconvert_exporter": "python",
   "pygments_lexer": "ipython3",
   "version": "3.9.7 (default, Sep 16 2021, 16:59:28) [MSC v.1916 64 bit (AMD64)]"
  },
  "orig_nbformat": 4,
  "vscode": {
   "interpreter": {
    "hash": "8d112440e66b7498783273bfbfba836e6d1fe871dde66f376b9a5ce730771a3b"
   }
  }
 },
 "nbformat": 4,
 "nbformat_minor": 2
}
